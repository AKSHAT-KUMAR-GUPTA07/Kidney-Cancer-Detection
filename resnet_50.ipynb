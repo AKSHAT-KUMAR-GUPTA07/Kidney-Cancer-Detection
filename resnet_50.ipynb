{
 "cells": [
  {
   "cell_type": "code",
   "execution_count": 1,
   "id": "63fd0f18-a817-480c-9db7-b1cc76bc792d",
   "metadata": {},
   "outputs": [
    {
     "name": "stdout",
     "output_type": "stream",
     "text": [
      "[INFO] Importing libraries...\n",
      "Using device: cpu\n",
      "[INFO] Libraries imported successfully.\n"
     ]
    }
   ],
   "source": [
    "# Cell 1: Import Libraries\n",
    "print(\"[INFO] Importing libraries...\")\n",
    "import os\n",
    "import pandas as pd\n",
    "import numpy as np\n",
    "import torch\n",
    "import torch.nn as nn\n",
    "import torch.optim as optim\n",
    "import torchvision.transforms as transforms\n",
    "import torchvision.models as models\n",
    "from torch.utils.data import Dataset, DataLoader\n",
    "from sklearn.model_selection import train_test_split\n",
    "from sklearn.metrics import classification_report, confusion_matrix\n",
    "import matplotlib.pyplot as plt\n",
    "import seaborn as sns\n",
    "from PIL import Image\n",
    "\n",
    "# Set random seeds for reproducibility\n",
    "torch.manual_seed(42)\n",
    "np.random.seed(42)\n",
    "torch.cuda.manual_seed(42)\n",
    "\n",
    "# Device configuration\n",
    "device = torch.device(\"cuda\" if torch.cuda.is_available() else \"cpu\")\n",
    "print(f\"Using device: {device}\")\n",
    "print(\"[INFO] Libraries imported successfully.\")"
   ]
  },
  {
   "cell_type": "code",
   "execution_count": 2,
   "id": "96e1cee1-5bb4-4f96-b474-2e75d5df7b57",
   "metadata": {},
   "outputs": [
    {
     "name": "stdout",
     "output_type": "stream",
     "text": [
      "[INFO] Defining data preparation function...\n",
      "[INFO] Data preparation function defined.\n"
     ]
    }
   ],
   "source": [
    "# Cell 2: Data Preparation Function\n",
    "print(\"[INFO] Defining data preparation function...\")\n",
    "def load_kidney_tumor_data(excel_path, base_scan_path):\n",
    "    print(\"[INFO] Loading and preprocessing patient data...\")\n",
    "    df = pd.read_excel(excel_path)\n",
    "    df['binary_label'] = df['Situation'].map({\n",
    "        'Tumor': 1, \n",
    "        'Normal case with cyst': 0, \n",
    "        'Normal case': 0\n",
    "    })\n",
    "    image_paths = []\n",
    "    labels = []\n",
    "    for patient_id in df.index:\n",
    "        patient_folder = os.path.join(base_scan_path, f\"{patient_id:02d}\")\n",
    "        if os.path.exists(patient_folder):\n",
    "            patient_label = df.loc[patient_id, 'binary_label']\n",
    "            for subfolder in os.listdir(patient_folder):\n",
    "                subfolder_path = os.path.join(patient_folder, subfolder)\n",
    "                if os.path.isdir(subfolder_path):\n",
    "                    for img_file in os.listdir(subfolder_path):\n",
    "                        if img_file.endswith('.jpg'):\n",
    "                            img_path = os.path.join(subfolder_path, img_file)\n",
    "                            image_paths.append(img_path)\n",
    "                            labels.append(patient_label)\n",
    "    print(\"[INFO] Data loaded and processed successfully.\")\n",
    "    return image_paths, labels\n",
    "print(\"[INFO] Data preparation function defined.\")"
   ]
  },
  {
   "cell_type": "code",
   "execution_count": 3,
   "id": "5b27553a-12a1-4510-ac37-15a203e15aa8",
   "metadata": {},
   "outputs": [
    {
     "name": "stdout",
     "output_type": "stream",
     "text": [
      "[INFO] Defining custom dataset class...\n",
      "[INFO] Custom dataset class defined.\n"
     ]
    }
   ],
   "source": [
    "# Cell 3: Custom Dataset\n",
    "print(\"[INFO] Defining custom dataset class...\")\n",
    "class KidneyTumorDataset(Dataset):\n",
    "    def __init__(self, image_paths, labels, is_train=True):\n",
    "        self.image_paths = image_paths\n",
    "        self.labels = labels\n",
    "        self.is_train = is_train\n",
    "        self.train_transform = transforms.Compose([\n",
    "            transforms.Resize((224, 224)),\n",
    "            transforms.RandomHorizontalFlip(p=0.5),\n",
    "            transforms.RandomRotation(15),\n",
    "            transforms.ColorJitter(brightness=0.2, contrast=0.2, saturation=0.2),\n",
    "            transforms.ToTensor(),\n",
    "            transforms.Normalize(mean=[0.485, 0.456, 0.406], std=[0.229, 0.224, 0.225])\n",
    "        ])\n",
    "        self.val_transform = transforms.Compose([\n",
    "            transforms.Resize((224, 224)),\n",
    "            transforms.ToTensor(),\n",
    "            transforms.Normalize(mean=[0.485, 0.456, 0.406], std=[0.229, 0.224, 0.225])\n",
    "        ])\n",
    "\n",
    "    def __len__(self):\n",
    "        return len(self.image_paths)\n",
    "\n",
    "    def __getitem__(self, idx):\n",
    "        image = Image.open(self.image_paths[idx]).convert('RGB')\n",
    "        transform = self.train_transform if self.is_train else self.val_transform\n",
    "        image = transform(image)\n",
    "        return image, self.labels[idx]\n",
    "print(\"[INFO] Custom dataset class defined.\")"
   ]
  },
  {
   "cell_type": "code",
   "execution_count": 4,
   "id": "f39f6e91-151f-4ad5-bc54-af015f96c892",
   "metadata": {},
   "outputs": [
    {
     "name": "stdout",
     "output_type": "stream",
     "text": [
      "[INFO] Defining data loader creation function...\n",
      "[INFO] Data loader creation function defined.\n"
     ]
    }
   ],
   "source": [
    "# Cell 4: Data Loader Creation\n",
    "print(\"[INFO] Defining data loader creation function...\")\n",
    "def create_data_loaders(image_paths, labels, batch_size=64, test_size=0.2):\n",
    "    print(\"[INFO] Creating train and validation data loaders...\")\n",
    "    X_train, X_val, y_train, y_val = train_test_split(\n",
    "        image_paths, labels, \n",
    "        test_size=test_size, \n",
    "        stratify=labels, \n",
    "        random_state=42\n",
    "    )\n",
    "    train_dataset = KidneyTumorDataset(X_train, y_train, is_train=True)\n",
    "    val_dataset = KidneyTumorDataset(X_val, y_val, is_train=False)\n",
    "    train_loader = DataLoader(\n",
    "        train_dataset, \n",
    "        batch_size=batch_size, \n",
    "        shuffle=True, \n",
    "        num_workers=2, \n",
    "        pin_memory=True\n",
    "    )\n",
    "    val_loader = DataLoader(\n",
    "        val_dataset, \n",
    "        batch_size=batch_size, \n",
    "        shuffle=False, \n",
    "        num_workers=2, \n",
    "        pin_memory=True\n",
    "    )\n",
    "    print(\"[INFO] Data loaders created successfully.\")\n",
    "    return train_loader, val_loader\n",
    "print(\"[INFO] Data loader creation function defined.\")"
   ]
  },
  {
   "cell_type": "code",
   "execution_count": 5,
   "id": "5d337852-2354-476b-ade5-540ab566193d",
   "metadata": {},
   "outputs": [
    {
     "name": "stdout",
     "output_type": "stream",
     "text": [
      "[INFO] Defining ResNet50 model with custom classification head...\n",
      "[INFO] ResNet50 model defined.\n"
     ]
    }
   ],
   "source": [
    "# Cell 5: ResNet50 Model with Custom Classification Head\n",
    "print(\"[INFO] Defining ResNet50 model with custom classification head...\")\n",
    "class ResNet50KidneyTumorClassifier(nn.Module):\n",
    "    def __init__(self, num_classes=1):\n",
    "        super().__init__()\n",
    "        self.resnet = models.resnet50(weights=models.ResNet50_Weights.IMAGENET1K_V1)\n",
    "        for param in self.resnet.parameters():\n",
    "            param.requires_grad = False\n",
    "        num_features = self.resnet.fc.in_features\n",
    "        self.resnet.fc = nn.Sequential(\n",
    "            nn.Linear(num_features, 512),\n",
    "            nn.ReLU(inplace=True),\n",
    "            nn.Dropout(0.5),\n",
    "            nn.Linear(512, num_classes),\n",
    "            nn.Sigmoid()\n",
    "        )\n",
    "    def forward(self, x):\n",
    "        return self.resnet(x)\n",
    "print(\"[INFO] ResNet50 model defined.\")"
   ]
  },
  {
   "cell_type": "code",
   "execution_count": 6,
   "id": "99c543c1-3d16-4706-8a12-096f41c64309",
   "metadata": {},
   "outputs": [
    {
     "name": "stdout",
     "output_type": "stream",
     "text": [
      "[INFO] Defining training function...\n",
      "[INFO] Training function defined.\n"
     ]
    }
   ],
   "source": [
    "# Cell 6: Training Function\n",
    "print(\"[INFO] Defining training function...\")\n",
    "def train_kidney_tumor_model(model, train_loader, val_loader, num_epochs=1):\n",
    "    print(\"[INFO] Starting training...\")\n",
    "    criterion = nn.BCEWithLogitsLoss()\n",
    "    optimizer = optim.Adam(\n",
    "        model.parameters(), \n",
    "        lr=1e-3, \n",
    "        weight_decay=1e-4\n",
    "    )\n",
    "    scheduler = optim.lr_scheduler.ReduceLROnPlateau(\n",
    "        optimizer, \n",
    "        mode='max', \n",
    "        patience=3, \n",
    "        factor=0.1\n",
    "    )\n",
    "    model.to(device)\n",
    "    best_val_accuracy = 0\n",
    "    for epoch in range(num_epochs):\n",
    "        model.train()\n",
    "        train_loss, train_correct, train_total = 0, 0, 0\n",
    "        for images, labels in train_loader:\n",
    "            images = images.to(device)\n",
    "            labels = labels.float().to(device)\n",
    "            optimizer.zero_grad()\n",
    "            outputs = model(images).squeeze()\n",
    "            loss = criterion(outputs, labels)\n",
    "            loss.backward()\n",
    "            optimizer.step()\n",
    "            train_loss += loss.item()\n",
    "            predicted = (outputs.sigmoid() > 0.5).float()\n",
    "            train_correct += (predicted == labels).float().sum().item()\n",
    "            train_total += labels.size(0)\n",
    "        model.eval()\n",
    "        val_loss, val_correct, val_total = 0, 0, 0\n",
    "        with torch.no_grad():\n",
    "            for images, labels in val_loader:\n",
    "                images = images.to(device)\n",
    "                labels = labels.float().to(device)\n",
    "                outputs = model(images).squeeze()\n",
    "                loss = criterion(outputs, labels)\n",
    "                val_loss += loss.item()\n",
    "                predicted = (outputs.sigmoid() > 0.5).float()\n",
    "                val_correct += (predicted == labels).float().sum().item()\n",
    "                val_total += labels.size(0)\n",
    "        train_accuracy = train_correct / train_total\n",
    "        val_accuracy = val_correct / val_total\n",
    "        scheduler.step(val_accuracy)\n",
    "        print(f\"Epoch {epoch+1}/{num_epochs}\")\n",
    "        print(f\"Train Loss: {train_loss/len(train_loader):.4f}, Train Accuracy: {train_accuracy:.4f}\")\n",
    "        print(f\"Val Loss: {val_loss/len(val_loader):.4f}, Val Accuracy: {val_accuracy:.4f}\")\n",
    "        if val_accuracy > best_val_accuracy:\n",
    "            best_val_accuracy = val_accuracy\n",
    "            torch.save(model.state_dict(), 'best_kidney_tumor_model.pth')\n",
    "    print(\"[INFO] Training completed.\")\n",
    "    return model\n",
    "print(\"[INFO] Training function defined.\")"
   ]
  },
  {
   "cell_type": "code",
   "execution_count": 7,
   "id": "c67fa34a-1063-44a2-bc01-143a63f6684a",
   "metadata": {},
   "outputs": [],
   "source": [
    "# Cell 7: Model Evaluation\n",
    "def evaluate_kidney_tumor_model(model, val_loader):\n",
    "    print(\"[INFO] Starting model evaluation...\")\n",
    "    model.eval()\n",
    "    all_preds, all_labels = [], []\n",
    "    \n",
    "    with torch.no_grad():\n",
    "        for images, labels in val_loader:\n",
    "            images = images.to(device)\n",
    "            labels = labels.to(device)\n",
    "            \n",
    "            outputs = model(images).squeeze()\n",
    "            predictions = (outputs.sigmoid() > 0.5).float()\n",
    "            \n",
    "            all_preds.extend(predictions.cpu().numpy())\n",
    "            all_labels.extend(labels.cpu().numpy())\n",
    "    \n",
    "    # Classification Report\n",
    "    print(\"[INFO] Generating classification report...\")\n",
    "    print(\"\\nClassification Report:\")\n",
    "    print(classification_report(all_labels, all_preds))\n",
    "    \n",
    "    # Confusion Matrix Visualization\n",
    "    print(\"[INFO] Generating confusion matrix...\")\n",
    "    cm = confusion_matrix(all_labels, all_preds)\n",
    "    plt.figure(figsize=(8, 6))\n",
    "    sns.heatmap(cm, annot=True, fmt='d', cmap='Blues')\n",
    "    plt.title('Confusion Matrix')\n",
    "    plt.xlabel('Predicted')\n",
    "    plt.ylabel('Actual')\n",
    "    plt.show()\n",
    "    \n",
    "    print(\"[INFO] Model evaluation completed.\")\n"
   ]
  },
  {
   "cell_type": "code",
   "execution_count": null,
   "id": "8bc4dd7c-f1e0-4411-8181-26a3922338a9",
   "metadata": {},
   "outputs": [
    {
     "name": "stdout",
     "output_type": "stream",
     "text": [
      "[INFO] Script execution started...\n",
      "[INFO] Main execution started...\n",
      "[INFO] Paths set for Excel and scan directories.\n",
      "[INFO] Loading data...\n",
      "[INFO] Loading and preprocessing patient data...\n",
      "[INFO] Data loaded and processed successfully.\n",
      "[INFO] Data loaded. Total images: 7701, Labels: 7701\n",
      "[INFO] Creating data loaders...\n",
      "[INFO] Creating train and validation data loaders...\n",
      "[INFO] Data loaders created successfully.\n",
      "[INFO] Data loaders created.\n",
      "[INFO] Initializing model...\n",
      "[INFO] Model initialized.\n",
      "[INFO] Starting training...\n",
      "[INFO] Starting training...\n"
     ]
    }
   ],
   "source": [
    "# Cell 8: Main Execution\n",
    "def main():\n",
    "    print(\"[INFO] Main execution started...\")\n",
    "    \n",
    "    # Paths\n",
    "    excel_path = 'Dataset/00Kidney_Patients.xlsx'\n",
    "    base_scan_path = 'unzipped_scans'\n",
    "    print(\"[INFO] Paths set for Excel and scan directories.\")\n",
    "    \n",
    "    # Load data\n",
    "    print(\"[INFO] Loading data...\")\n",
    "    image_paths, labels = load_kidney_tumor_data(excel_path, base_scan_path)\n",
    "    print(f\"[INFO] Data loaded. Total images: {len(image_paths)}, Labels: {len(labels)}\")\n",
    "    \n",
    "    # Create data loaders\n",
    "    print(\"[INFO] Creating data loaders...\")\n",
    "    train_loader, val_loader = create_data_loaders(image_paths, labels)\n",
    "    print(\"[INFO] Data loaders created.\")\n",
    "    \n",
    "    # Initialize model\n",
    "    print(\"[INFO] Initializing model...\")\n",
    "    model = ResNet50KidneyTumorClassifier()\n",
    "    print(\"[INFO] Model initialized.\")\n",
    "    \n",
    "    # Train model\n",
    "    print(\"[INFO] Starting training...\")\n",
    "    trained_model = train_kidney_tumor_model(model, train_loader, val_loader)\n",
    "    print(\"[INFO] Training completed.\")\n",
    "    \n",
    "    # Evaluate model\n",
    "    print(\"[INFO] Evaluating trained model...\")\n",
    "    evaluate_kidney_tumor_model(trained_model, val_loader)\n",
    "    print(\"[INFO] Main execution completed.\")\n",
    "    \n",
    "# Run the main function\n",
    "if __name__ == '__main__':\n",
    "    print(\"[INFO] Script execution started...\")\n",
    "    main()\n",
    "    print(\"[INFO] Script execution finished.\")\n"
   ]
  },
  {
   "cell_type": "code",
   "execution_count": null,
   "id": "7615c327-c88c-4f7f-8022-5434dc4e3473",
   "metadata": {},
   "outputs": [],
   "source": []
  }
 ],
 "metadata": {
  "kernelspec": {
   "display_name": "Python 3 (ipykernel)",
   "language": "python",
   "name": "python3"
  },
  "language_info": {
   "codemirror_mode": {
    "name": "ipython",
    "version": 3
   },
   "file_extension": ".py",
   "mimetype": "text/x-python",
   "name": "python",
   "nbconvert_exporter": "python",
   "pygments_lexer": "ipython3",
   "version": "3.10.0"
  }
 },
 "nbformat": 4,
 "nbformat_minor": 5
}
